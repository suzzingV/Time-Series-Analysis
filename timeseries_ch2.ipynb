{
  "nbformat": 4,
  "nbformat_minor": 0,
  "metadata": {
    "colab": {
      "provenance": [],
      "authorship_tag": "ABX9TyOqOBHBXnTMjjcrruChcizI",
      "include_colab_link": true
    },
    "kernelspec": {
      "name": "ir",
      "display_name": "R"
    },
    "language_info": {
      "name": "R"
    }
  },
  "cells": [
    {
      "cell_type": "markdown",
      "metadata": {
        "id": "view-in-github",
        "colab_type": "text"
      },
      "source": [
        "<a href=\"https://colab.research.google.com/github/suzzingV/Time-Series-Analysis/blob/main/timeseries_ch2.ipynb\" target=\"_parent\"><img src=\"https://colab.research.google.com/assets/colab-badge.svg\" alt=\"Open In Colab\"/></a>"
      ]
    },
    {
      "cell_type": "code",
      "execution_count": 5,
      "metadata": {
        "colab": {
          "base_uri": "https://localhost:8080/"
        },
        "id": "snuVO-7KmOcK",
        "outputId": "e2b22a44-9ae1-40eb-c162-2f1a499c93aa"
      },
      "outputs": [
        {
          "output_type": "execute_result",
          "data": {
            "text/plain": [
              "2"
            ]
          },
          "metadata": {},
          "execution_count": 5
        }
      ],
      "source": [
        "a=2\n",
        "a"
      ]
    },
    {
      "cell_type": "code",
      "source": [
        "log(10)"
      ],
      "metadata": {
        "colab": {
          "base_uri": "https://localhost:8080/",
          "height": 34
        },
        "id": "qJ29M-X6qekp",
        "outputId": "a674bb20-a0f1-42c6-9b66-2eff183c335a"
      },
      "execution_count": 1,
      "outputs": [
        {
          "output_type": "display_data",
          "data": {
            "text/html": [
              "2.30258509299405"
            ],
            "text/markdown": "2.30258509299405",
            "text/latex": "2.30258509299405",
            "text/plain": [
              "[1] 2.302585"
            ]
          },
          "metadata": {}
        }
      ]
    },
    {
      "cell_type": "code",
      "source": [
        "z = scan(\"/content/population.txt\")"
      ],
      "metadata": {
        "id": "q27vHgMxs1JF"
      },
      "execution_count": 4,
      "outputs": []
    },
    {
      "cell_type": "code",
      "source": [
        "z"
      ],
      "metadata": {
        "colab": {
          "base_uri": "https://localhost:8080/",
          "height": 69
        },
        "id": "LsN2HQpYs3MV",
        "outputId": "1df2a17f-e161-492a-f633-3d39e15cb246"
      },
      "execution_count": 5,
      "outputs": [
        {
          "output_type": "display_data",
          "data": {
            "text/html": [
              "<style>\n",
              ".list-inline {list-style: none; margin:0; padding: 0}\n",
              ".list-inline>li {display: inline-block}\n",
              ".list-inline>li:not(:last-child)::after {content: \"\\00b7\"; padding: 0 .5ex}\n",
              "</style>\n",
              "<ol class=list-inline><li>25012374</li><li>25765673</li><li>26513030</li><li>27261747</li><li>27984155</li><li>28704674</li><li>29435571</li><li>30130983</li><li>30838302</li><li>31544266</li><li>32240827</li><li>32882704</li><li>33505406</li><li>34103149</li><li>34692266</li><li>35280725</li><li>35848523</li><li>36411795</li><li>36969185</li><li>37534236</li><li>38123775</li><li>38723248</li><li>39326352</li><li>39910403</li><li>40405956</li><li>40805744</li><li>41213674</li><li>41621690</li><li>42031247</li><li>42449038</li><li>42869283</li><li>43295704</li><li>43747962</li><li>44194628</li><li>44641540</li><li>45092991</li></ol>\n"
            ],
            "text/markdown": "1. 25012374\n2. 25765673\n3. 26513030\n4. 27261747\n5. 27984155\n6. 28704674\n7. 29435571\n8. 30130983\n9. 30838302\n10. 31544266\n11. 32240827\n12. 32882704\n13. 33505406\n14. 34103149\n15. 34692266\n16. 35280725\n17. 35848523\n18. 36411795\n19. 36969185\n20. 37534236\n21. 38123775\n22. 38723248\n23. 39326352\n24. 39910403\n25. 40405956\n26. 40805744\n27. 41213674\n28. 41621690\n29. 42031247\n30. 42449038\n31. 42869283\n32. 43295704\n33. 43747962\n34. 44194628\n35. 44641540\n36. 45092991\n\n\n",
            "text/latex": "\\begin{enumerate*}\n\\item 25012374\n\\item 25765673\n\\item 26513030\n\\item 27261747\n\\item 27984155\n\\item 28704674\n\\item 29435571\n\\item 30130983\n\\item 30838302\n\\item 31544266\n\\item 32240827\n\\item 32882704\n\\item 33505406\n\\item 34103149\n\\item 34692266\n\\item 35280725\n\\item 35848523\n\\item 36411795\n\\item 36969185\n\\item 37534236\n\\item 38123775\n\\item 38723248\n\\item 39326352\n\\item 39910403\n\\item 40405956\n\\item 40805744\n\\item 41213674\n\\item 41621690\n\\item 42031247\n\\item 42449038\n\\item 42869283\n\\item 43295704\n\\item 43747962\n\\item 44194628\n\\item 44641540\n\\item 45092991\n\\end{enumerate*}\n",
            "text/plain": [
              " [1] 25012374 25765673 26513030 27261747 27984155 28704674 29435571 30130983\n",
              " [9] 30838302 31544266 32240827 32882704 33505406 34103149 34692266 35280725\n",
              "[17] 35848523 36411795 36969185 37534236 38123775 38723248 39326352 39910403\n",
              "[25] 40405956 40805744 41213674 41621690 42031247 42449038 42869283 43295704\n",
              "[33] 43747962 44194628 44641540 45092991"
            ]
          },
          "metadata": {}
        }
      ]
    }
  ]
}